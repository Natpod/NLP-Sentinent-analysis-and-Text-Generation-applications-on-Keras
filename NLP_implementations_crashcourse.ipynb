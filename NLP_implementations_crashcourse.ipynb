{
 "cells": [
  {
   "cell_type": "markdown",
   "metadata": {},
   "source": [
    "Use of Keras for NLP applications\n",
    "---\n",
    "\n",
    "---\n",
    "\n",
    "# Natural language processing\n",
    "\n",
    "\n",
    "Predicting classes from text and Reflecting language patterns in a text fragment or corpus used to train a set of neural networks.\n",
    "\n",
    "\n",
    "**Index**\n",
    "\n",
    "+ **Text Preparation or preprocessing for NLP** : fragmentation and numerical coding of text elements (link)\n",
    "--> [link 1](#Parte_1)\n",
    "+ **Training a classifier** : *Sentiment analysis* -Identifying sarcasm in a corpus of news headlines\n",
    "--> [link 2](#Parte_2)\n",
    "+ **Text generation** : Predict text with contextual learning from song lyrics from *Eurovision song contest*\n",
    "--> [link 3](#Parte_3)\n",
    "\n",
    "---\n",
    "\n",
    "*Soruces*\n",
    "\n",
    "Documentation from Keras : https://www.tensorflow.org/guide/keras?hl=es-419\n",
    "\n",
    "\n",
    "\n",
    "Text corpuses:\n",
    "* [*Sarcasm*](https://www.kaggle.com/datasets/minitree/eurovision-song-lyrics)\n",
    "* [*Eurovision lyrics*](https://storage.googleapis.com/laurencemoroney-blog.appspot.com/sarcasm.json)"
   ]
  },
  {
   "cell_type": "markdown",
   "metadata": {},
   "source": [
    "Importación de módulos"
   ]
  },
  {
   "cell_type": "code",
   "execution_count": 1,
   "metadata": {
    "id": "hidden-resolution"
   },
   "outputs": [],
   "source": [
    "import numpy as np\n",
    "from keras.models import Sequential\n",
    "from tensorflow.keras.layers import Embedding, LSTM, Dense, Bidirectional\n",
    "from keras.layers import Dense\n",
    "from keras.layers import Dropout\n",
    "from tensorflow.keras.optimizers import Adam\n",
    "from keras.callbacks import ModelCheckpoint\n",
    "from keras.utils import np_utils\n",
    "import tensorflow as tf\n",
    "\n",
    "import pandas as pd\n",
    "import sys\n",
    "import re"
   ]
  },
  {
   "cell_type": "code",
   "execution_count": 2,
   "metadata": {},
   "outputs": [],
   "source": [
    "import json\n",
    "import matplotlib.pyplot as plt"
   ]
  },
  {
   "cell_type": "code",
   "execution_count": 19,
   "metadata": {},
   "outputs": [],
   "source": [
    "from tensorflow.keras.preprocessing.text import Tokenizer\n",
    "from tensorflow.keras.preprocessing.sequence import pad_sequences"
   ]
  },
  {
   "cell_type": "markdown",
   "metadata": {},
   "source": [
    "<a id='#Parte_1'></a>"
   ]
  },
  {
   "cell_type": "markdown",
   "metadata": {},
   "source": [
    "# Parte_1"
   ]
  },
  {
   "cell_type": "markdown",
   "metadata": {},
   "source": [
    "# First part : Introduction\n",
    "\n",
    "---"
   ]
  },
  {
   "cell_type": "markdown",
   "metadata": {},
   "source": [
    "These first steps describe the necessary steps for preprocessing texts, before they form the input of a neural network model."
   ]
  },
  {
   "cell_type": "markdown",
   "metadata": {},
   "source": [
    "## FIRST STEP to process a natural language : LEXICAL part --> Tokenization\n",
    "\n",
    "Defining the lexicon or vocabulary of the language constuctions that I am going to pass to the computer is essential. It is a matter of forming a numerical dictionary of all the words that can occur in a corpus of text.\n",
    "\n",
    "**Assign a number to each word as if it were a dictionary**"
   ]
  },
  {
   "cell_type": "markdown",
   "metadata": {},
   "source": [
    "**Phrase examples - In spanish**"
   ]
  },
  {
   "cell_type": "code",
   "execution_count": 20,
   "metadata": {},
   "outputs": [],
   "source": [
    "SENTENCES = [ \"Me rasco la nariz\", \n",
    "             \"Me pica la nariz\", \n",
    "             \"Me rascas la nariz?\", \n",
    "             \"No crees que tengo una nariz bonita?\"]"
   ]
  },
  {
   "cell_type": "markdown",
   "metadata": {},
   "source": [
    "Using the tokenization provided by the text preprocessing module of keras/tensorflow"
   ]
  },
  {
   "cell_type": "code",
   "execution_count": 36,
   "metadata": {},
   "outputs": [
    {
     "name": "stdout",
     "output_type": "stream",
     "text": [
      "{'ombligo': 1, 'me': 2, 'el': 3, 'rasco': 4, 'pica': 5, 'rascas': 6, 'no': 7, 'crees': 8, 'que': 9, 'tengo': 10, 'un': 11, 'bonito': 12}\n"
     ]
    }
   ],
   "source": [
    "tokenizer = Tokenizer(num_words=100)\n",
    "tokenizer.fit_on_texts(SENTENCES)\n",
    "word_index = tokenizer.word_index\n",
    "print(word_index)"
   ]
  },
  {
   "cell_type": "markdown",
   "metadata": {},
   "source": [
    "Manual tokenization. It does not differentiate punctuation marks or capital letters. Therefore we make use of the tokenizer provided by tensorflow."
   ]
  },
  {
   "cell_type": "code",
   "execution_count": 24,
   "metadata": {},
   "outputs": [],
   "source": [
    "chars = sorted(list(set(\" \".join(SENTENCES).split())))\n",
    "char_to_int = dict((c, i) for i, c in enumerate(chars))"
   ]
  },
  {
   "cell_type": "code",
   "execution_count": 25,
   "metadata": {},
   "outputs": [
    {
     "data": {
      "text/plain": [
       "{'Me': 0,\n",
       " 'No': 1,\n",
       " 'bonito?': 2,\n",
       " 'crees': 3,\n",
       " 'el': 4,\n",
       " 'ombligo': 5,\n",
       " 'ombligo!': 6,\n",
       " 'pica': 7,\n",
       " 'que': 8,\n",
       " 'rascas': 9,\n",
       " 'rasco': 10,\n",
       " 'tengo': 11,\n",
       " 'un': 12}"
      ]
     },
     "execution_count": 25,
     "metadata": {},
     "output_type": "execute_result"
    }
   ],
   "source": [
    "char_to_int"
   ]
  },
  {
   "cell_type": "markdown",
   "metadata": {},
   "source": [
    "## SECOND STEP to process a natural language : SYNTAXIS --> Sequencing\n",
    "\n",
    "This is another essential step in the preparation of the text prior to forming input in an ML method.\n",
    "\n",
    "It involves passing the sentences present in `SENTENCES` to sequences of the numerical tokens previously prepared for each word.\n",
    "\n",
    "In this way, the set of texts is prepared to feed a neural network and to learn the text.\n",
    "\n",
    "\n",
    "For this we make use of the tokenizer provided by tensorflow again.\n"
   ]
  },
  {
   "cell_type": "code",
   "execution_count": 26,
   "metadata": {},
   "outputs": [],
   "source": [
    "SEQUENCES = tokenizer.texts_to_sequences(SENTENCES)"
   ]
  },
  {
   "cell_type": "code",
   "execution_count": 29,
   "metadata": {},
   "outputs": [],
   "source": [
    "tokenizer.fit_on_texts(SENTENCES)\n",
    "word_index = tokenizer.word_index"
   ]
  },
  {
   "cell_type": "markdown",
   "metadata": {},
   "source": [
    "Mapping to numbers by token and conversion of phrases to numbers (Standard label encoding)"
   ]
  },
  {
   "cell_type": "code",
   "execution_count": 30,
   "metadata": {},
   "outputs": [
    {
     "name": "stdout",
     "output_type": "stream",
     "text": [
      "{'ombligo': 1, 'me': 2, 'el': 3, 'rasco': 4, 'pica': 5, 'rascas': 6, 'no': 7, 'crees': 8, 'que': 9, 'tengo': 10, 'un': 11, 'bonito': 12}\n"
     ]
    }
   ],
   "source": [
    "# muestra de nuevo el diccionario de palabras posibles\n",
    "print(word_index)"
   ]
  },
  {
   "cell_type": "code",
   "execution_count": 27,
   "metadata": {},
   "outputs": [
    {
     "name": "stdout",
     "output_type": "stream",
     "text": [
      "[[2, 4, 3, 1], [2, 5, 3, 1], [2, 6, 3, 1], [7, 8, 9, 10, 11, 1, 12]]\n"
     ]
    }
   ],
   "source": [
    "# muestra las frases de prueba\n",
    "print(SEQUENCES)"
   ]
  },
  {
   "cell_type": "markdown",
   "metadata": {},
   "source": [
    "What if when testing the RNN you have never seen a particular token? \n",
    "\n",
    "Now we prepare the case"
   ]
  },
  {
   "cell_type": "code",
   "execution_count": 32,
   "metadata": {},
   "outputs": [],
   "source": [
    "testeo_tokenizacion = [ \"Me chifla mi nariz\", \"Me chifla lo bonita que es mi nariz\" ]"
   ]
  },
  {
   "cell_type": "markdown",
   "metadata": {},
   "source": [
    "Note that the first sentence has a total of 4 words and the second has 8. \n",
    "\n",
    "There are words that have not been prepared in the token dictionary, such as `my`, `chifla` , `lo` and `es`."
   ]
  },
  {
   "cell_type": "code",
   "execution_count": 37,
   "metadata": {},
   "outputs": [
    {
     "name": "stdout",
     "output_type": "stream",
     "text": [
      "[[2, 1], [2, 12, 9, 1]]\n"
     ]
    }
   ],
   "source": [
    "print(tokenizer.texts_to_sequences(testeo_tokenizacion))"
   ]
  },
  {
   "cell_type": "markdown",
   "metadata": {},
   "source": [
    "The tokenizer has found a way not to put the missing words in the token set.\n",
    "\n",
    "In this way, it has reduced the size of sentences from 4 to 2 and 8 to 4, respectively.\n",
    "\n",
    "We would be feeding the network subsequently with the phrases `Me ombligo` and `Me bonito que ombligo`.\n",
    "\n",
    "*But what if for the sake of grammar and reducing information loss I don't want to reduce the size of the sentences?\n",
    "\n",
    "You can reduce these unknown tokens to the value of `OOV` by redefining the tokenizer."
   ]
  },
  {
   "cell_type": "code",
   "execution_count": 38,
   "metadata": {},
   "outputs": [],
   "source": [
    "tokenizer = Tokenizer(num_words = 100, oov_token= \"<00V>\")"
   ]
  },
  {
   "cell_type": "markdown",
   "metadata": {},
   "source": [
    "The first token corresponds as we can see to the unknown token, `00V`."
   ]
  },
  {
   "cell_type": "code",
   "execution_count": 41,
   "metadata": {},
   "outputs": [
    {
     "name": "stdout",
     "output_type": "stream",
     "text": [
      "{'<00V>': 1, 'ombligo': 2, 'me': 3, 'el': 4, 'rasco': 5, 'pica': 6, 'rascas': 7, 'no': 8, 'crees': 9, 'que': 10, 'tengo': 11, 'un': 12, 'bonito': 13}\n"
     ]
    }
   ],
   "source": [
    "print(tokenizer.word_index)"
   ]
  },
  {
   "cell_type": "code",
   "execution_count": 43,
   "metadata": {},
   "outputs": [
    {
     "name": "stdout",
     "output_type": "stream",
     "text": [
      "[[3, 1, 1, 2], [3, 1, 1, 13, 10, 1, 1, 2]]\n"
     ]
    }
   ],
   "source": [
    "tokenizer.fit_on_texts(SENTENCES) # entreno con las frases iniciales\n",
    "SECUENCIA_TEST = tokenizer.texts_to_sequences(testeo_tokenizacion) # convierto el texto de prueba con la tokenización anterior\n",
    "print(SECUENCIA_TEST)"
   ]
  },
  {
   "cell_type": "markdown",
   "metadata": {},
   "source": [
    "Now we have another problem... How could our neural network interpret sentences of different sizes?\n",
    "\n",
    "**They are modified by a process known as `padding`**.\n",
    "\n",
    "In this process `0` is added to complete the token size of the longest sentence in the sentence corpus."
   ]
  },
  {
   "cell_type": "code",
   "execution_count": 46,
   "metadata": {},
   "outputs": [
    {
     "name": "stdout",
     "output_type": "stream",
     "text": [
      "\n",
      "Padded Test Sequence: \n",
      "[[ 0  0  0  0  3  1  1  2]\n",
      " [ 3  1  1 13 10  1  1  2]]\n"
     ]
    }
   ],
   "source": [
    "from tensorflow.keras.preprocessing.sequence import pad_sequences\n",
    "\n",
    "# guardamos en la lista la longitud de cada frase pasada a secuencia de tokens\n",
    "total_lens = [len(tokenlist) for tokenlist in SECUENCIA_TEST]\n",
    "\n",
    "# hacemos el padding de las frases con el máximo de la secuencia con más carácteres\n",
    "padded = pad_sequences(SECUENCIA_TEST, maxlen=max(total_lens))\n",
    "\n",
    "print(\"\\nPadded Test Sequence: \")\n",
    "print(padded)"
   ]
  },
  {
   "cell_type": "markdown",
   "metadata": {},
   "source": [
    "Now all sequences have the same size\n",
    "\n",
    "We already know how to encode the sequences to a numerical format, now we will see an example of a classifier implementation."
   ]
  },
  {
   "cell_type": "markdown",
   "metadata": {},
   "source": [
    "<a id='#Parte_2'></a>"
   ]
  },
  {
   "cell_type": "markdown",
   "metadata": {},
   "source": [
    "# Parte_2"
   ]
  },
  {
   "cell_type": "markdown",
   "metadata": {},
   "source": [
    "# Training a classifier to detect sentiment\n",
    "\n",
    "---\n",
    "\n",
    "Pre-embedding of token sequences (Continuous representation of tokens)\n",
    "\n",
    "Implementation of a simple neural network architecture for classification."
   ]
  },
  {
   "cell_type": "markdown",
   "metadata": {},
   "source": [
    "## FIRST NEURAL NETWORK TRAINING TEST : Sentiment recognition in natural language\n",
    "\n",
    "Training a classifier to recognize sarcasm in text."
   ]
  },
  {
   "cell_type": "markdown",
   "metadata": {},
   "source": [
    "we load the corpus of sentences with binary tags of 1 if sarcastic and 0 if not sarcastic for each sentence"
   ]
  },
  {
   "cell_type": "code",
   "execution_count": 6,
   "metadata": {},
   "outputs": [],
   "source": [
    "# Textos de encabezados de artículos en internet\n",
    "# Disponible en : https://storage.googleapis.com/laurencemoroney-blog.appspot.com/sarcasm.json"
   ]
  },
  {
   "cell_type": "code",
   "execution_count": 12,
   "metadata": {},
   "outputs": [],
   "source": [
    "with open(\"./data/sarcasm.json\", 'r') as f:\n",
    "    datastore = json.load(f)\n",
    "\n",
    "sentences = []\n",
    "labels = []\n",
    "\n",
    "for item in datastore:\n",
    "    sentences.append(item['headline'])\n",
    "    labels.append(item['is_sarcastic'])"
   ]
  },
  {
   "cell_type": "markdown",
   "metadata": {},
   "source": [
    "we load the tokenizer and do the padding of the phrases, but first we analyze what our dataset looks like"
   ]
  },
  {
   "cell_type": "code",
   "execution_count": 13,
   "metadata": {},
   "outputs": [
    {
     "name": "stdout",
     "output_type": "stream",
     "text": [
      "Número de headlines :  26709\n"
     ]
    }
   ],
   "source": [
    "print(\"Número de headlines : \", len(sentences))"
   ]
  },
  {
   "cell_type": "code",
   "execution_count": 16,
   "metadata": {},
   "outputs": [
    {
     "name": "stdout",
     "output_type": "stream",
     "text": [
      "Máximo número de palabras usadas en un headline  226\n"
     ]
    }
   ],
   "source": [
    "total_lens = [len(\" \".join(sentence).split()) for sentence in sentences]\n",
    "print(\"Máximo número de palabras usadas en un headline \", max(total_lens))"
   ]
  },
  {
   "cell_type": "markdown",
   "metadata": {},
   "source": [
    "we use this information later for tokenization."
   ]
  },
  {
   "cell_type": "markdown",
   "metadata": {},
   "source": [
    "### Train test splitting the dataset"
   ]
  },
  {
   "cell_type": "code",
   "execution_count": 25,
   "metadata": {},
   "outputs": [],
   "source": [
    "from sklearn.model_selection import train_test_split\n",
    "X, y = sentences, labels\n",
    "X_train, X_test, y_train, y_test =train_test_split(X, y, \n",
    "                                                   train_size=0.75, \n",
    "                                                   random_state=0, \n",
    "                                                   stratify=y, \n",
    "                                                   shuffle=True)"
   ]
  },
  {
   "cell_type": "markdown",
   "metadata": {},
   "source": [
    "### TOKENIZATION\n"
   ]
  },
  {
   "cell_type": "markdown",
   "metadata": {},
   "source": [
    "Defining the parameters of the tokenization"
   ]
  },
  {
   "cell_type": "code",
   "execution_count": 10,
   "metadata": {},
   "outputs": [],
   "source": [
    "# other tokenization parameters are defined\n",
    "\n",
    "trunc_type='post' \n",
    "padding_type='post' # padding zeros are written after tokens\n",
    "oov_tok = \"<OOV>\" # token for unknown words"
   ]
  },
  {
   "cell_type": "markdown",
   "metadata": {},
   "source": [
    "##### It is important that the tokenization process is different for the two sets."
   ]
  },
  {
   "cell_type": "code",
   "execution_count": 26,
   "metadata": {},
   "outputs": [],
   "source": [
    "# train set\n",
    "\n",
    "tokenizer = Tokenizer(oov_token = \"<00V>\")\n",
    "tokenizer.fit_on_texts(X_train)\n",
    "sequences_train = tokenizer.texts_to_sequences(X_train)\n",
    "padded_train = pad_sequences(sequences_train, padding='post', maxlen = max(total_lens)) # decidimos que los 0 se pongan después de los tokens"
   ]
  },
  {
   "cell_type": "code",
   "execution_count": 27,
   "metadata": {},
   "outputs": [],
   "source": [
    "# test set\n",
    "# it is important not to make the tokenizer fitting for the test set, because we want to test it\n",
    "\n",
    "sequences_test = tokenizer.texts_to_sequences(X_test)\n",
    "padded_test = pad_sequences(sequences_test, padding='post', maxlen = max(total_lens)) \n",
    "# we decided to put the 0's after the tokens"
   ]
  },
  {
   "cell_type": "code",
   "execution_count": 28,
   "metadata": {},
   "outputs": [],
   "source": [
    "# we pass the phrases converted to sequences to an array\n",
    "\n",
    "padded_train = np.array(padded_train)\n",
    "padded_test = np.array(padded_test)"
   ]
  },
  {
   "cell_type": "code",
   "execution_count": 38,
   "metadata": {},
   "outputs": [
    {
     "name": "stdout",
     "output_type": "stream",
     "text": [
      "Número de palabras en el set de entrenamiento :  25642\n"
     ]
    }
   ],
   "source": [
    "train_lexicon_length = len(list(tokenizer.word_index.keys()))\n",
    "print(\"Número de palabras en el set de entrenamiento : \", train_lexicon_length)"
   ]
  },
  {
   "cell_type": "markdown",
   "metadata": {},
   "source": [
    "The number of words specified in the training model will be rounded to the nearest thousand."
   ]
  },
  {
   "cell_type": "markdown",
   "metadata": {},
   "source": [
    "#### These parameters should be taken into account when choosing embedding parameters"
   ]
  },
  {
   "cell_type": "code",
   "execution_count": 39,
   "metadata": {},
   "outputs": [],
   "source": [
    "# maximum number of mapping that the tokenization can do (lexicon size or possible words)\n",
    "vocab_size = 26000 \n",
    "# number of features to which we are going to summarize the token vector\n",
    "embedding_dim = 16 \n",
    "# maximum token length\n",
    "max_length = 100 "
   ]
  },
  {
   "cell_type": "markdown",
   "metadata": {},
   "source": [
    "## Cargamos el modelo"
   ]
  },
  {
   "cell_type": "markdown",
   "metadata": {},
   "source": [
    "Sequential model : It is a process that concatenates the architectures into a single model.\n",
    "\n",
    "\n",
    "* **Layer of embedding `Embedding` :**  It maps the sequence of tokens to a representation in real numbers of these vectors to feed it later to the neural network. Each token is composed of vectors of dimension 16.\n",
    "\n",
    "* **Layer of global average pooling `GlobalAveragePooling1D` :**  reduces each element of the embedding to one dimension by averaging, to feed a single vector corresponding to the sequence to the neural network\n",
    "\n",
    "<img src=\"./images/Keras embedding layer.png\" width=\"500px\">\n",
    "\n",
    "* **2 `Dense` Layers.** Densely connected neural networks (MLP). The first one has 24 nodes with relu activation and the second one serves as output to produce the number that classifies sarcasm or non-sarcasm with sigmoid activation.\n",
    "* Optimizer : Adam. Learning penalty regime by means of crossed binary entropy."
   ]
  },
  {
   "cell_type": "code",
   "execution_count": 40,
   "metadata": {},
   "outputs": [],
   "source": [
    "model = tf.keras.Sequential([\n",
    "    tf.keras.layers.Embedding(vocab_size, embedding_dim, input_length=max(total_lens)),\n",
    "    tf.keras.layers.GlobalAveragePooling1D(),\n",
    "    tf.keras.layers.Dense(24, activation='relu'),\n",
    "    tf.keras.layers.Dense(1, activation='sigmoid')\n",
    "])\n",
    "model.compile(loss='binary_crossentropy',optimizer='adam',metrics=['accuracy'])"
   ]
  },
  {
   "cell_type": "code",
   "execution_count": 41,
   "metadata": {
    "collapsed": true,
    "jupyter": {
     "outputs_hidden": true
    }
   },
   "outputs": [
    {
     "name": "stdout",
     "output_type": "stream",
     "text": [
      "Model: \"sequential_2\"\n",
      "_________________________________________________________________\n",
      " Layer (type)                Output Shape              Param #   \n",
      "=================================================================\n",
      " embedding_2 (Embedding)     (None, 226, 16)           416000    \n",
      "                                                                 \n",
      " global_average_pooling1d_2   (None, 16)               0         \n",
      " (GlobalAveragePooling1D)                                        \n",
      "                                                                 \n",
      " dense_4 (Dense)             (None, 24)                408       \n",
      "                                                                 \n",
      " dense_5 (Dense)             (None, 1)                 25        \n",
      "                                                                 \n",
      "=================================================================\n",
      "Total params: 416,433\n",
      "Trainable params: 416,433\n",
      "Non-trainable params: 0\n",
      "_________________________________________________________________\n"
     ]
    }
   ],
   "source": [
    "model.summary()"
   ]
  },
  {
   "cell_type": "markdown",
   "metadata": {},
   "source": [
    "Finally the fitting is done with the labels and the padded sequences of the training set.\n",
    "\n",
    "Note that keras allows us to enter the test set data so that it returns a validation measure, not only for the training set as seen in the `loss` and `accuracy` variables, but also for the test set `val loss` and `val_accuracy`. Seeing that both measures are more or less homogeneous allows us to see if the test and test set have been split in a correct and balanced way, or if there is overfitting on the contrary in the training set."
   ]
  },
  {
   "cell_type": "code",
   "execution_count": 42,
   "metadata": {},
   "outputs": [
    {
     "name": "stdout",
     "output_type": "stream",
     "text": [
      "Epoch 1/30\n",
      "626/626 - 9s - loss: 0.6835 - accuracy: 0.5610 - val_loss: 0.6769 - val_accuracy: 0.5611 - 9s/epoch - 15ms/step\n",
      "Epoch 2/30\n",
      "626/626 - 8s - loss: 0.5906 - accuracy: 0.6945 - val_loss: 0.4671 - val_accuracy: 0.8152 - 8s/epoch - 12ms/step\n",
      "Epoch 3/30\n",
      "626/626 - 8s - loss: 0.3759 - accuracy: 0.8559 - val_loss: 0.3754 - val_accuracy: 0.8327 - 8s/epoch - 12ms/step\n",
      "Epoch 4/30\n",
      "626/626 - 7s - loss: 0.2952 - accuracy: 0.8877 - val_loss: 0.3446 - val_accuracy: 0.8498 - 7s/epoch - 12ms/step\n",
      "Epoch 5/30\n",
      "626/626 - 7s - loss: 0.2469 - accuracy: 0.9085 - val_loss: 0.3389 - val_accuracy: 0.8497 - 7s/epoch - 11ms/step\n",
      "Epoch 6/30\n",
      "626/626 - 7s - loss: 0.2107 - accuracy: 0.9226 - val_loss: 0.3298 - val_accuracy: 0.8585 - 7s/epoch - 11ms/step\n",
      "Epoch 7/30\n",
      "626/626 - 7s - loss: 0.1789 - accuracy: 0.9355 - val_loss: 0.3321 - val_accuracy: 0.8553 - 7s/epoch - 12ms/step\n",
      "Epoch 8/30\n",
      "626/626 - 8s - loss: 0.1533 - accuracy: 0.9465 - val_loss: 0.3637 - val_accuracy: 0.8491 - 8s/epoch - 12ms/step\n",
      "Epoch 9/30\n",
      "626/626 - 7s - loss: 0.1329 - accuracy: 0.9535 - val_loss: 0.3509 - val_accuracy: 0.8589 - 7s/epoch - 12ms/step\n",
      "Epoch 10/30\n",
      "626/626 - 7s - loss: 0.1114 - accuracy: 0.9633 - val_loss: 0.3629 - val_accuracy: 0.8580 - 7s/epoch - 12ms/step\n",
      "Epoch 11/30\n",
      "626/626 - 7s - loss: 0.0986 - accuracy: 0.9676 - val_loss: 0.3674 - val_accuracy: 0.8559 - 7s/epoch - 12ms/step\n",
      "Epoch 12/30\n",
      "626/626 - 7s - loss: 0.0827 - accuracy: 0.9742 - val_loss: 0.3904 - val_accuracy: 0.8582 - 7s/epoch - 12ms/step\n",
      "Epoch 13/30\n",
      "626/626 - 7s - loss: 0.0700 - accuracy: 0.9786 - val_loss: 0.4003 - val_accuracy: 0.8559 - 7s/epoch - 12ms/step\n",
      "Epoch 14/30\n",
      "626/626 - 7s - loss: 0.0599 - accuracy: 0.9813 - val_loss: 0.4253 - val_accuracy: 0.8546 - 7s/epoch - 11ms/step\n",
      "Epoch 15/30\n",
      "626/626 - 8s - loss: 0.0509 - accuracy: 0.9858 - val_loss: 0.4438 - val_accuracy: 0.8546 - 8s/epoch - 12ms/step\n",
      "Epoch 16/30\n",
      "626/626 - 7s - loss: 0.0431 - accuracy: 0.9891 - val_loss: 0.4915 - val_accuracy: 0.8509 - 7s/epoch - 11ms/step\n",
      "Epoch 17/30\n",
      "626/626 - 7s - loss: 0.0372 - accuracy: 0.9904 - val_loss: 0.4862 - val_accuracy: 0.8488 - 7s/epoch - 11ms/step\n",
      "Epoch 18/30\n",
      "626/626 - 8s - loss: 0.0339 - accuracy: 0.9910 - val_loss: 0.5395 - val_accuracy: 0.8326 - 8s/epoch - 13ms/step\n",
      "Epoch 19/30\n",
      "626/626 - 7s - loss: 0.0273 - accuracy: 0.9935 - val_loss: 0.5427 - val_accuracy: 0.8404 - 7s/epoch - 11ms/step\n",
      "Epoch 20/30\n",
      "626/626 - 7s - loss: 0.0236 - accuracy: 0.9940 - val_loss: 0.5781 - val_accuracy: 0.8359 - 7s/epoch - 11ms/step\n",
      "Epoch 21/30\n",
      "626/626 - 8s - loss: 0.0198 - accuracy: 0.9953 - val_loss: 0.6839 - val_accuracy: 0.8323 - 8s/epoch - 12ms/step\n",
      "Epoch 22/30\n",
      "626/626 - 7s - loss: 0.0183 - accuracy: 0.9957 - val_loss: 0.6151 - val_accuracy: 0.8414 - 7s/epoch - 12ms/step\n",
      "Epoch 23/30\n",
      "626/626 - 7s - loss: 0.0143 - accuracy: 0.9968 - val_loss: 0.6959 - val_accuracy: 0.8227 - 7s/epoch - 11ms/step\n",
      "Epoch 24/30\n",
      "626/626 - 7s - loss: 0.0134 - accuracy: 0.9975 - val_loss: 0.6747 - val_accuracy: 0.8414 - 7s/epoch - 11ms/step\n",
      "Epoch 25/30\n",
      "626/626 - 7s - loss: 0.0110 - accuracy: 0.9979 - val_loss: 0.6976 - val_accuracy: 0.8363 - 7s/epoch - 11ms/step\n",
      "Epoch 26/30\n",
      "626/626 - 7s - loss: 0.0093 - accuracy: 0.9979 - val_loss: 0.7265 - val_accuracy: 0.8336 - 7s/epoch - 11ms/step\n",
      "Epoch 27/30\n",
      "626/626 - 7s - loss: 0.0072 - accuracy: 0.9985 - val_loss: 0.7673 - val_accuracy: 0.8305 - 7s/epoch - 11ms/step\n",
      "Epoch 28/30\n",
      "626/626 - 7s - loss: 0.0079 - accuracy: 0.9982 - val_loss: 0.7839 - val_accuracy: 0.8342 - 7s/epoch - 11ms/step\n",
      "Epoch 29/30\n",
      "626/626 - 7s - loss: 0.0058 - accuracy: 0.9990 - val_loss: 0.8113 - val_accuracy: 0.8344 - 7s/epoch - 11ms/step\n",
      "Epoch 30/30\n",
      "626/626 - 7s - loss: 0.0055 - accuracy: 0.9988 - val_loss: 0.8384 - val_accuracy: 0.8344 - 7s/epoch - 11ms/step\n"
     ]
    }
   ],
   "source": [
    "num_epochs = 30\n",
    "history = model.fit(padded_train, \n",
    "                    np.array(y_train), \n",
    "                    epochs=num_epochs, \n",
    "                    validation_data=(padded_test, np.array(y_test)), \n",
    "                    verbose=2)"
   ]
  },
  {
   "cell_type": "markdown",
   "metadata": {},
   "source": [
    "Gráficos de aprendizaje"
   ]
  },
  {
   "cell_type": "code",
   "execution_count": 44,
   "metadata": {},
   "outputs": [],
   "source": [
    "\n",
    "def plot_graphs(history, string):\n",
    "    plt.plot(history.history[string])\n",
    "    plt.plot(history.history['val_'+string])\n",
    "    plt.xlabel(\"Epochs\")\n",
    "    plt.ylabel(string)\n",
    "    plt.legend([string, 'val_'+string])\n",
    "    plt.show()"
   ]
  },
  {
   "cell_type": "code",
   "execution_count": 45,
   "metadata": {},
   "outputs": [
    {
     "data": {
      "image/png": "[encoded data removed]",
      "text/plain": [
       "<Figure size 432x288 with 1 Axes>"
      ]
     },
     "metadata": {
      "needs_background": "light"
     },
     "output_type": "display_data"
    }
   ],
   "source": [
    "plot_graphs(history, \"accuracy\")\n"
   ]
  },
  {
   "cell_type": "markdown",
   "metadata": {},
   "source": [
    "there is convergence to a more or less good measure of learning accuracy, and it holds for the validation set as well."
   ]
  },
  {
   "cell_type": "code",
   "execution_count": 46,
   "metadata": {},
   "outputs": [
    {
     "data": {
      "image/png": "[encoded data removed]",
      "text/plain": [
       "<Figure size 432x288 with 1 Axes>"
      ]
     },
     "metadata": {
      "needs_background": "light"
     },
     "output_type": "display_data"
    }
   ],
   "source": [
    "plot_graphs(history, \"loss\")\n"
   ]
  },
  {
   "cell_type": "markdown",
   "metadata": {},
   "source": [
    "There is more penalty in the model predictions however over the learning epochs for the test set."
   ]
  },
  {
   "cell_type": "markdown",
   "metadata": {},
   "source": [
    "Presumably it seems like our model has overfitting - How would you fix it?\n",
    "This code is left for experimentation, try changing the parameters and dataset splittings, perhaps including hyperparameter optimization by yourself!!\n",
    "\n",
    "Here is an example of how we can decode a sequence and extract its tokens and label"
   ]
  },
  {
   "cell_type": "code",
   "execution_count": 247,
   "metadata": {},
   "outputs": [
    {
     "name": "stdout",
     "output_type": "stream",
     "text": [
      "Secuencia con padding decodeada a texto \n",
      " army successful him left are candidates out all to died to season 'complete hate san fried ? ? ? ? ? ? ? ? ? ? ? ? ? ? ? ? ? ? ? ? ? ? ? ? ? ? ? ? ? ? ? ? ? ? ? ? ? ? ? ? ? ? ? ? ? ? ? ? ? ? ? ? ? ? ? ? ? ? ? ? ? ? ? ? ? ? ? ? ? ? ? ? ? ? ? ? ? ? ? ? ? ? ? ? ? ? ? ? ? ? ? ? ? ? ? ? ? ? ? ? ? ? ? ? ? ? ? ? ? ? ? ? ? ? ? ? ? ? ? ? ? ? ? ? ? ? ? ? ? ? ? ? ? ? ? ? ? ? ? ? ? ? ? ? ? ? ? ? ? ? ? ? ? ? ? ? ? ? ? ? ? ? ? ? ? ? ? ? ? ? ? ? ? ? ? ? ? ? ? ? ? ? ? ? ? ? ? ? ? ? ? ? ? ? ? ? ? ? ? ? ? ? ? ? ? ? ? ? ? ?\n",
      "Secuencia de tokens con padding \n",
      " [1761, 2254, 115, 501, 24, 861, 34, 38, 2, 1260, 2, 331, 12732, 664, 1261, 8908]\n",
      "Medida sarcasmo/no sarcasmo 1\n"
     ]
    }
   ],
   "source": [
    "reverse_word_index = dict([(value, key) for (key, value) in tokenizer.word_index.items()])\n",
    "\n",
    "def decode_sentence(text):\n",
    "    return ' '.join([reverse_word_index.get(i, '?') for i in text])\n",
    "\n",
    "print(\"Secuencia con padding decodeada a texto \\n\",decode_sentence(padded_train[6]))\n",
    "print(\"Secuencia de tokens con padding \\n\",sequences_train[6])\n",
    "print(\"Medida sarcasmo/no sarcasmo\",y_train[6])"
   ]
  },
  {
   "cell_type": "markdown",
   "metadata": {},
   "source": [
    "The dimensions of the embedding weights matrix are printed above, in this case it composes a mapping of :"
   ]
  },
  {
   "cell_type": "code",
   "execution_count": 53,
   "metadata": {},
   "outputs": [
    {
     "name": "stdout",
     "output_type": "stream",
     "text": [
      "(26000, 16)\n"
     ]
    }
   ],
   "source": [
    "e = model.layers[0]\n",
    "weights = e.get_weights()[0]\n",
    "print(weights.shape) # shape: (vocab_size, embedding_dim)"
   ]
  },
  {
   "cell_type": "markdown",
   "metadata": {},
   "source": [
    "More sarcasm classification examples!!!"
   ]
  },
  {
   "cell_type": "code",
   "execution_count": 60,
   "metadata": {},
   "outputs": [
    {
     "name": "stdout",
     "output_type": "stream",
     "text": [
      "[[0.9869716 ]\n",
      " [0.35880464]\n",
      " [0.00160584]]\n"
     ]
    }
   ],
   "source": [
    "sentence = [\n",
    "            \"study reveals babies are stupid\",\n",
    "            \"drugs win drug war\",  \n",
    "            \"game of thrones season finale showing this sunday night\"\n",
    "]\n",
    "\n",
    "sequences = tokenizer.texts_to_sequences(sentence)\n",
    "\n",
    "padded = pad_sequences(sequences, maxlen=max(total_lens), padding=padding_type, truncating=trunc_type)\n",
    "\n",
    "print(model.predict(padded))"
   ]
  },
  {
   "cell_type": "code",
   "execution_count": 66,
   "metadata": {},
   "outputs": [],
   "source": [
    "# se redondean los valores de predicción para dar lugar a las etiquetas de clase\n",
    "\n",
    "test_sarcasm_results = model.predict(padded_test)\n",
    "binaryrounded = []\n",
    "for sarcasm_rate in test_sarcasm_results:\n",
    "    binaryrounded.append(round(sarcasm_rate[0]))"
   ]
  },
  {
   "cell_type": "markdown",
   "metadata": {},
   "source": [
    "**Validation metrics**: Precision, accuracy, sensitivity and F1 score.\n",
    "\n",
    "'micro': Calculate global metrics by counting total true positives, false negatives and false positives."
   ]
  },
  {
   "cell_type": "code",
   "execution_count": 68,
   "metadata": {},
   "outputs": [
    {
     "name": "stdout",
     "output_type": "stream",
     "text": [
      "Exactitud - Accuracy: 0.834\n",
      "Precision: 0.834\n",
      "Sensibilidad - Recall: 0.834\n",
      "F1: 0.834\n"
     ]
    }
   ],
   "source": [
    "from sklearn.metrics import accuracy_score\n",
    "from sklearn.metrics import precision_score\n",
    "from sklearn.metrics import recall_score, f1_score\n",
    "print('Exactitud - Accuracy: %.3f' % accuracy_score(y_true=y_test, y_pred=binaryrounded))\n",
    "print('Precision: %.3f' % precision_score(y_true=y_test, y_pred=binaryrounded, average='micro'))\n",
    "print('Sensibilidad - Recall: %.3f' % recall_score(y_true=y_test, y_pred=binaryrounded, average='micro'))\n",
    "print('F1: %.3f' % f1_score(y_true=y_test, y_pred=binaryrounded, average='micro'))\n"
   ]
  },
  {
   "cell_type": "code",
   "execution_count": 248,
   "metadata": {},
   "outputs": [
    {
     "data": {
      "image/png": "[encoded data removed]",
      "text/plain": [
       "<Figure size 432x288 with 2 Axes>"
      ]
     },
     "metadata": {
      "needs_background": "light"
     },
     "output_type": "display_data"
    }
   ],
   "source": [
    "from sklearn.metrics import confusion_matrix\n",
    "from sklearn.metrics import ConfusionMatrixDisplay\n",
    "classNames = np.unique(y)\n",
    "confusionmatrix = confusion_matrix(y_test, binaryrounded)\n",
    "disp = ConfusionMatrixDisplay(confusionmatrix, display_labels = ['sarcasm','no_sarcasm'])\n",
    "disp.plot()\n",
    "plt.show()"
   ]
  },
  {
   "cell_type": "markdown",
   "metadata": {},
   "source": [
    "<a id='#Parte_3'></a>"
   ]
  },
  {
   "cell_type": "markdown",
   "metadata": {},
   "source": [
    "# Parte_3"
   ]
  },
  {
   "cell_type": "markdown",
   "metadata": {},
   "source": [
    "# Application of a recurrent neural network : Bidirectional LSTM\n",
    "---\n",
    "\n",
    "Contextual learning of sequences\n",
    "\n",
    "In summary it is an application of a sequence of layers of neural networks per sequence token position. The idea is to transmit for each layer a weight that gives context of the tokens appeared prior to the sequence, as this image illustrates."
   ]
  },
  {
   "cell_type": "code",
   "execution_count": 241,
   "metadata": {},
   "outputs": [],
   "source": [
    "#  __                                                          \n",
    "# |_       _  _     .  _ .  _   _     _  _   _   _  |_   _  |_ \n",
    "# |__ |_| |  (_) \\/ | _) | (_) | )   _) (_) | ) (_) |_) (_) |_ \n",
    "#                                               _/             "
   ]
  },
  {
   "cell_type": "markdown",
   "metadata": {
    "id": "unusual-daily"
   },
   "source": [
    "Out of curiosity I delved further into the world of natural text processing with tensorflow and the keras deep learning library, and found the possibility to generate text with special neural networks called **Recurrent Neural Networks**.\n",
    "\n",
    "These neural networks aim at learning sequence patterns that text elements may have : the importance of learning lies on long and short term contextual learning between tokens.\n",
    "\n",
    "\n",
    "<img src=\"images/RNN.png\" width=\"500px\">\n",
    "\n",
    "Since Eurovision was being held around that time, I was inspired to try to generate a model that would be trained from the lyrics of the winning songs of the contest, predicting the text of a song. Hopefully you can learn from this text generation code example as well!!"
   ]
  },
  {
   "cell_type": "markdown",
   "metadata": {},
   "source": [
    "Eurovision songs json import"
   ]
  },
  {
   "cell_type": "code",
   "execution_count": 249,
   "metadata": {},
   "outputs": [],
   "source": [
    "df_eurovision = pd.read_json(\"./data/eurovision-lyrics.json\",orient='index')"
   ]
  },
  {
   "cell_type": "markdown",
   "metadata": {},
   "source": [
    "We reassign the pandas index"
   ]
  },
  {
   "cell_type": "code",
   "execution_count": 75,
   "metadata": {},
   "outputs": [],
   "source": [
    "df_eurovision = df_eurovision.set_index('#')"
   ]
  },
  {
   "cell_type": "markdown",
   "metadata": {},
   "source": [
    "## Taking the songs that have won the first places in the competition, which are written in English."
   ]
  },
  {
   "cell_type": "code",
   "execution_count": 154,
   "metadata": {},
   "outputs": [
    {
     "data": {
      "text/html": [
       "<div>\n",
       "<style scoped>\n",
       "    .dataframe tbody tr th:only-of-type {\n",
       "        vertical-align: middle;\n",
       "    }\n",
       "\n",
       "    .dataframe tbody tr th {\n",
       "        vertical-align: top;\n",
       "    }\n",
       "\n",
       "    .dataframe thead th {\n",
       "        text-align: right;\n",
       "    }\n",
       "</style>\n",
       "<table border=\"1\" class=\"dataframe\">\n",
       "  <thead>\n",
       "    <tr style=\"text-align: right;\">\n",
       "      <th></th>\n",
       "      <th>Country</th>\n",
       "      <th>#.1</th>\n",
       "      <th>Artist</th>\n",
       "      <th>Song</th>\n",
       "      <th>Language</th>\n",
       "      <th>Pl.</th>\n",
       "      <th>Sc.</th>\n",
       "      <th>Eurovision_Number</th>\n",
       "      <th>Year</th>\n",
       "      <th>Host_Country</th>\n",
       "      <th>Host_City</th>\n",
       "      <th>Lyrics</th>\n",
       "      <th>Lyrics translation</th>\n",
       "    </tr>\n",
       "    <tr>\n",
       "      <th>#</th>\n",
       "      <th></th>\n",
       "      <th></th>\n",
       "      <th></th>\n",
       "      <th></th>\n",
       "      <th></th>\n",
       "      <th></th>\n",
       "      <th></th>\n",
       "      <th></th>\n",
       "      <th></th>\n",
       "      <th></th>\n",
       "      <th></th>\n",
       "      <th></th>\n",
       "      <th></th>\n",
       "    </tr>\n",
       "  </thead>\n",
       "  <tbody>\n",
       "    <tr>\n",
       "      <th>17</th>\n",
       "      <td>United Kingdom</td>\n",
       "      <td>1</td>\n",
       "      <td>Patricia Bredin</td>\n",
       "      <td>All</td>\n",
       "      <td>English</td>\n",
       "      <td>7</td>\n",
       "      <td>6</td>\n",
       "      <td>2</td>\n",
       "      <td>1957</td>\n",
       "      <td>West Germany</td>\n",
       "      <td>Frankfurt</td>\n",
       "      <td>All the golden dreams of yesterday\\nAll the fr...</td>\n",
       "      <td>English</td>\n",
       "    </tr>\n",
       "    <tr>\n",
       "      <th>126</th>\n",
       "      <td>Ireland</td>\n",
       "      <td>1</td>\n",
       "      <td>Butch Moore</td>\n",
       "      <td>Walking the Streets in the Rain</td>\n",
       "      <td>English</td>\n",
       "      <td>6</td>\n",
       "      <td>11</td>\n",
       "      <td>10</td>\n",
       "      <td>1965</td>\n",
       "      <td>Italy</td>\n",
       "      <td>Naples</td>\n",
       "      <td>My poor heart feels like breaking\\n‘Cause I’ll...</td>\n",
       "      <td>English</td>\n",
       "    </tr>\n",
       "    <tr>\n",
       "      <th>841</th>\n",
       "      <td>Latvia</td>\n",
       "      <td>1</td>\n",
       "      <td>Brainstorm</td>\n",
       "      <td>My Star</td>\n",
       "      <td>English</td>\n",
       "      <td>3</td>\n",
       "      <td>136</td>\n",
       "      <td>45</td>\n",
       "      <td>2000</td>\n",
       "      <td>Sweden</td>\n",
       "      <td>Stockholm</td>\n",
       "      <td>My friends gonna call me: hey dreamer\\nThe sta...</td>\n",
       "      <td>English</td>\n",
       "    </tr>\n",
       "    <tr>\n",
       "      <th>919</th>\n",
       "      <td>Belarus</td>\n",
       "      <td>1</td>\n",
       "      <td>Alexandra &amp; Konstantin</td>\n",
       "      <td>My Galileo</td>\n",
       "      <td>English</td>\n",
       "      <td>-</td>\n",
       "      <td>-</td>\n",
       "      <td>49</td>\n",
       "      <td>2004</td>\n",
       "      <td>Turkey</td>\n",
       "      <td>Istanbul</td>\n",
       "      <td>I'm no stay-at-home, and heady\\nIs my quest an...</td>\n",
       "      <td>English</td>\n",
       "    </tr>\n",
       "    <tr>\n",
       "      <th>930</th>\n",
       "      <td>Albania</td>\n",
       "      <td>1</td>\n",
       "      <td>Anjeza Shahini</td>\n",
       "      <td>The Image of You</td>\n",
       "      <td>English</td>\n",
       "      <td>7</td>\n",
       "      <td>106</td>\n",
       "      <td>49</td>\n",
       "      <td>2004</td>\n",
       "      <td>Turkey</td>\n",
       "      <td>Istanbul</td>\n",
       "      <td>How strange the feeling in your soul\\nWhen lov...</td>\n",
       "      <td>English</td>\n",
       "    </tr>\n",
       "    <tr>\n",
       "      <th>974</th>\n",
       "      <td>Bulgaria</td>\n",
       "      <td>1</td>\n",
       "      <td>Kaffe</td>\n",
       "      <td>Lorraine</td>\n",
       "      <td>English</td>\n",
       "      <td>-</td>\n",
       "      <td>-</td>\n",
       "      <td>50</td>\n",
       "      <td>2005</td>\n",
       "      <td>Ukraine</td>\n",
       "      <td>Kiev</td>\n",
       "      <td>Standing here alone again\\nWaiting for the mom...</td>\n",
       "      <td>English</td>\n",
       "    </tr>\n",
       "    <tr>\n",
       "      <th>993</th>\n",
       "      <td>Armenia</td>\n",
       "      <td>1</td>\n",
       "      <td>André</td>\n",
       "      <td>Without Your Love</td>\n",
       "      <td>English</td>\n",
       "      <td>8</td>\n",
       "      <td>129</td>\n",
       "      <td>51</td>\n",
       "      <td>2006</td>\n",
       "      <td>Greece</td>\n",
       "      <td>Athens</td>\n",
       "      <td>Drumming hearts and your silent words of love\\...</td>\n",
       "      <td>English</td>\n",
       "    </tr>\n",
       "    <tr>\n",
       "      <th>1035</th>\n",
       "      <td>Georgia</td>\n",
       "      <td>1</td>\n",
       "      <td>Sopho</td>\n",
       "      <td>Visionary Dream</td>\n",
       "      <td>English</td>\n",
       "      <td>12</td>\n",
       "      <td>97</td>\n",
       "      <td>52</td>\n",
       "      <td>2007</td>\n",
       "      <td>Finland</td>\n",
       "      <td>Helsinki</td>\n",
       "      <td>I'll dream up tales and rhymes\\nIn visionary d...</td>\n",
       "      <td>English</td>\n",
       "    </tr>\n",
       "    <tr>\n",
       "      <th>1078</th>\n",
       "      <td>Azerbaijan</td>\n",
       "      <td>1</td>\n",
       "      <td>Elnur &amp; Samir</td>\n",
       "      <td>Day After Day</td>\n",
       "      <td>English</td>\n",
       "      <td>8</td>\n",
       "      <td>132</td>\n",
       "      <td>53</td>\n",
       "      <td>2008</td>\n",
       "      <td>Serbia</td>\n",
       "      <td>Belgrade</td>\n",
       "      <td>For peace we pray\\nSave us from all fears\\nOh ...</td>\n",
       "      <td>English</td>\n",
       "    </tr>\n",
       "    <tr>\n",
       "      <th>1392</th>\n",
       "      <td>Australia</td>\n",
       "      <td>1</td>\n",
       "      <td>Guy Sebastian</td>\n",
       "      <td>Tonight Again</td>\n",
       "      <td>English</td>\n",
       "      <td>5</td>\n",
       "      <td>196</td>\n",
       "      <td>60</td>\n",
       "      <td>2015</td>\n",
       "      <td>Austria</td>\n",
       "      <td>Vienna</td>\n",
       "      <td>[Verse 1]\\nOh, everyone’s got their problems\\n...</td>\n",
       "      <td>English</td>\n",
       "    </tr>\n",
       "  </tbody>\n",
       "</table>\n",
       "</div>"
      ],
      "text/plain": [
       "             Country  #.1                  Artist  \\\n",
       "#                                                   \n",
       "17    United Kingdom    1         Patricia Bredin   \n",
       "126          Ireland    1             Butch Moore   \n",
       "841           Latvia    1              Brainstorm   \n",
       "919          Belarus    1  Alexandra & Konstantin   \n",
       "930          Albania    1          Anjeza Shahini   \n",
       "974         Bulgaria    1                   Kaffe   \n",
       "993          Armenia    1                   André   \n",
       "1035         Georgia    1                   Sopho   \n",
       "1078      Azerbaijan    1           Elnur & Samir   \n",
       "1392       Australia    1           Guy Sebastian   \n",
       "\n",
       "                                 Song Language Pl.  Sc.  Eurovision_Number  \\\n",
       "#                                                                            \n",
       "17                                All  English   7    6                  2   \n",
       "126   Walking the Streets in the Rain  English   6   11                 10   \n",
       "841                           My Star  English   3  136                 45   \n",
       "919                        My Galileo  English   -    -                 49   \n",
       "930                  The Image of You  English   7  106                 49   \n",
       "974                          Lorraine  English   -    -                 50   \n",
       "993                 Without Your Love  English   8  129                 51   \n",
       "1035                  Visionary Dream  English  12   97                 52   \n",
       "1078                    Day After Day  English   8  132                 53   \n",
       "1392                    Tonight Again  English   5  196                 60   \n",
       "\n",
       "      Year  Host_Country  Host_City  \\\n",
       "#                                     \n",
       "17    1957  West Germany  Frankfurt   \n",
       "126   1965         Italy     Naples   \n",
       "841   2000        Sweden  Stockholm   \n",
       "919   2004        Turkey   Istanbul   \n",
       "930   2004        Turkey   Istanbul   \n",
       "974   2005       Ukraine       Kiev   \n",
       "993   2006        Greece     Athens   \n",
       "1035  2007       Finland   Helsinki   \n",
       "1078  2008        Serbia   Belgrade   \n",
       "1392  2015       Austria     Vienna   \n",
       "\n",
       "                                                 Lyrics Lyrics translation  \n",
       "#                                                                           \n",
       "17    All the golden dreams of yesterday\\nAll the fr...            English  \n",
       "126   My poor heart feels like breaking\\n‘Cause I’ll...            English  \n",
       "841   My friends gonna call me: hey dreamer\\nThe sta...            English  \n",
       "919   I'm no stay-at-home, and heady\\nIs my quest an...            English  \n",
       "930   How strange the feeling in your soul\\nWhen lov...            English  \n",
       "974   Standing here alone again\\nWaiting for the mom...            English  \n",
       "993   Drumming hearts and your silent words of love\\...            English  \n",
       "1035  I'll dream up tales and rhymes\\nIn visionary d...            English  \n",
       "1078  For peace we pray\\nSave us from all fears\\nOh ...            English  \n",
       "1392  [Verse 1]\\nOh, everyone’s got their problems\\n...            English  "
      ]
     },
     "execution_count": 154,
     "metadata": {},
     "output_type": "execute_result"
    }
   ],
   "source": [
    "intval = []\n",
    "for contest_place in df_eurovision['#.1'].values.tolist():\n",
    "    if contest_place == '-':\n",
    "        intval.append(26)\n",
    "    else:\n",
    "        intval.append(int(contest_place))\n",
    "df_eurovision['#.1']=intval\n",
    "\n",
    "df_primeras = df_eurovision[(df_eurovision['#.1']==1)&(df_eurovision['Language'] == 'English')]\n",
    "df_primeras"
   ]
  },
  {
   "cell_type": "markdown",
   "metadata": {},
   "source": [
    "All values in the lyrics column are transformed to raw text. Capital letters are also removed.\n",
    "\n",
    "Since this is more of a generative experiment than an analysis of the model accuracy, we will not need to separate by training and test sets this time"
   ]
  },
  {
   "cell_type": "code",
   "execution_count": 164,
   "metadata": {},
   "outputs": [],
   "source": [
    "lyric_corpus = str()\n",
    "\n",
    "for lyrics in df_primeras['Lyrics'].values.tolist():\n",
    "    lyric_corpus += lyrics"
   ]
  },
  {
   "cell_type": "markdown",
   "metadata": {},
   "source": [
    "The string with all the texts is then moved to a list with a phrase from the song in each element."
   ]
  },
  {
   "cell_type": "code",
   "execution_count": 165,
   "metadata": {},
   "outputs": [],
   "source": [
    "lyric_corpus = lyric_corpus.lower().split(\"\\n\")"
   ]
  },
  {
   "cell_type": "markdown",
   "metadata": {},
   "source": [
    "first 3 sentences of the first song"
   ]
  },
  {
   "cell_type": "code",
   "execution_count": 166,
   "metadata": {},
   "outputs": [
    {
     "data": {
      "text/plain": [
       "['all the golden dreams of yesterday',\n",
       " 'all the fragrance of a bygone may',\n",
       " 'all the words two hearts in love can say']"
      ]
     },
     "execution_count": 166,
     "metadata": {},
     "output_type": "execute_result"
    }
   ],
   "source": [
    "lyric_corpus[0:3]"
   ]
  },
  {
   "cell_type": "code",
   "execution_count": 167,
   "metadata": {},
   "outputs": [
    {
     "name": "stdout",
     "output_type": "stream",
     "text": [
      "Total words used in subset : 25925\n"
     ]
    }
   ],
   "source": [
    "tokenizer.fit_on_texts(lyric_corpus)\n",
    "total_words = len(tokenizer.word_index) + 1\n",
    "\n",
    "print('Total words used in subset :', total_words)"
   ]
  },
  {
   "cell_type": "markdown",
   "metadata": {},
   "source": [
    "Sequencing of each phrase and the following phrases"
   ]
  },
  {
   "cell_type": "code",
   "execution_count": 168,
   "metadata": {},
   "outputs": [],
   "source": [
    "#with the prediction motif, the first token is taken first and \n",
    "#the following tokens are stored additionally in another variable\n",
    "input_sequences = []\n",
    "for line in lyric_corpus:\n",
    "    token_list=tokenizer.texts_to_sequences([line])[0] \n",
    "    for i in range(1, len(token_list)):\n",
    "        n_gram_sequence = token_list[:i+1]\n",
    "        input_sequences.append(n_gram_sequence)"
   ]
  },
  {
   "cell_type": "code",
   "execution_count": 169,
   "metadata": {},
   "outputs": [],
   "source": [
    "# make the padding of the sequence, put it in a numpy array\n",
    "# the padding or the set of zeros are put before the tokens in this case\n",
    "# the sequence length will be that of the longest sequence length\n",
    "\n",
    "max_sequence_len = max([len(x) for x in input_sequences])\n",
    "input_sequences = np.array(pad_sequences(input_sequences, maxlen=max_sequence_len, padding='pre'))\n",
    "\n",
    "# create predictors and label\n",
    "xs, labels = input_sequences[:,:-1],input_sequences[:,-1]\n",
    "\n",
    "ys = tf.keras.utils.to_categorical(labels, num_classes=total_words)"
   ]
  },
  {
   "cell_type": "markdown",
   "metadata": {},
   "source": [
    "#### Model construction\n",
    "\n",
    "* The `Sequential` defines the presence of concatenation of layers of encoders or neural networks.\n",
    "* To this we add the `Embedding` of the token sequences, this time without reducing. **mapping vectors to tokens of 250 elements. \n",
    "* These vectors are passed sequentially to a type of `Bidirectional` RNN, the `Long Short Term Memory (LSTM)`. It is said to be bidirectional because it is composed of two overlapping layers of RNN that learns the sequence context in both directions. Each of these two RNN layers has a total of 150 hidden nodes.\n",
    "* Finally, the output or vectors that have collected the context of the words are passed to a feed forward neural network with the same number of output nodes as words in the token dictionary. This last layer finally gives us the word predictions.\n",
    "* adam optimizer\n",
    "* Accuracy metrics are made along the learning epochs by assessing the categorical cross-entropy."
   ]
  },
  {
   "cell_type": "code",
   "execution_count": 170,
   "metadata": {},
   "outputs": [
    {
     "name": "stdout",
     "output_type": "stream",
     "text": [
      "Epoch 1/100\n"
     ]
    },
    {
     "name": "stderr",
     "output_type": "stream",
     "text": [
      "C:\\Users\\naata\\Anaconda3\\lib\\site-packages\\keras\\optimizer_v2\\adam.py:105: UserWarning: The `lr` argument is deprecated, use `learning_rate` instead.\n",
      "  super(Adam, self).__init__(name, **kwargs)\n"
     ]
    },
    {
     "name": "stdout",
     "output_type": "stream",
     "text": [
      "52/52 [==============================] - 8s 114ms/step - loss: 6.9309 - accuracy: 0.0429\n",
      "Epoch 2/100\n",
      "52/52 [==============================] - 6s 113ms/step - loss: 4.7116 - accuracy: 0.1433\n",
      "Epoch 3/100\n",
      "52/52 [==============================] - 6s 113ms/step - loss: 3.5287 - accuracy: 0.3074\n",
      "Epoch 4/100\n",
      "52/52 [==============================] - 6s 123ms/step - loss: 2.5941 - accuracy: 0.4532\n",
      "Epoch 5/100\n",
      "52/52 [==============================] - 6s 125ms/step - loss: 1.9009 - accuracy: 0.5554\n",
      "Epoch 6/100\n",
      "52/52 [==============================] - 7s 127ms/step - loss: 1.3913 - accuracy: 0.6442\n",
      "Epoch 7/100\n",
      "52/52 [==============================] - 6s 124ms/step - loss: 1.0325 - accuracy: 0.7453\n",
      "Epoch 8/100\n",
      "52/52 [==============================] - 7s 140ms/step - loss: 0.8038 - accuracy: 0.7844\n",
      "Epoch 9/100\n",
      "52/52 [==============================] - 7s 131ms/step - loss: 0.6835 - accuracy: 0.8255\n",
      "Epoch 10/100\n",
      "52/52 [==============================] - 7s 129ms/step - loss: 0.5203 - accuracy: 0.8604\n",
      "Epoch 11/100\n",
      "52/52 [==============================] - 6s 124ms/step - loss: 0.4301 - accuracy: 0.8708\n",
      "Epoch 12/100\n",
      "52/52 [==============================] - 7s 125ms/step - loss: 0.3731 - accuracy: 0.8843\n",
      "Epoch 13/100\n",
      "52/52 [==============================] - 7s 126ms/step - loss: 0.3506 - accuracy: 0.8941\n",
      "Epoch 14/100\n",
      "52/52 [==============================] - 7s 126ms/step - loss: 0.3711 - accuracy: 0.8928\n",
      "Epoch 15/100\n",
      "52/52 [==============================] - 7s 128ms/step - loss: 0.3226 - accuracy: 0.8983\n",
      "Epoch 16/100\n",
      "52/52 [==============================] - 7s 128ms/step - loss: 0.3105 - accuracy: 0.8904\n",
      "Epoch 17/100\n",
      "52/52 [==============================] - 7s 125ms/step - loss: 0.3161 - accuracy: 0.8953\n",
      "Epoch 18/100\n",
      "52/52 [==============================] - 6s 124ms/step - loss: 0.2823 - accuracy: 0.9075\n",
      "Epoch 19/100\n",
      "52/52 [==============================] - 7s 127ms/step - loss: 0.2645 - accuracy: 0.9057\n",
      "Epoch 20/100\n",
      "52/52 [==============================] - 6s 123ms/step - loss: 0.2704 - accuracy: 0.9063\n",
      "Epoch 21/100\n",
      "52/52 [==============================] - 6s 123ms/step - loss: 0.3227 - accuracy: 0.8965\n",
      "Epoch 22/100\n",
      "52/52 [==============================] - 6s 123ms/step - loss: 0.2725 - accuracy: 0.9057\n",
      "Epoch 23/100\n",
      "52/52 [==============================] - 6s 122ms/step - loss: 0.2847 - accuracy: 0.9045\n",
      "Epoch 24/100\n",
      "52/52 [==============================] - 6s 123ms/step - loss: 0.2746 - accuracy: 0.9051\n",
      "Epoch 25/100\n",
      "52/52 [==============================] - 6s 122ms/step - loss: 0.2530 - accuracy: 0.9075\n",
      "Epoch 26/100\n",
      "52/52 [==============================] - 6s 122ms/step - loss: 0.2510 - accuracy: 0.9039\n",
      "Epoch 27/100\n",
      "52/52 [==============================] - 6s 124ms/step - loss: 0.2400 - accuracy: 0.9039\n",
      "Epoch 28/100\n",
      "52/52 [==============================] - 6s 123ms/step - loss: 0.2397 - accuracy: 0.8983\n",
      "Epoch 29/100\n",
      "52/52 [==============================] - 6s 123ms/step - loss: 0.2345 - accuracy: 0.9069\n",
      "Epoch 30/100\n",
      "52/52 [==============================] - 6s 123ms/step - loss: 0.2368 - accuracy: 0.9100\n",
      "Epoch 31/100\n",
      "52/52 [==============================] - 7s 127ms/step - loss: 0.2347 - accuracy: 0.9051\n",
      "Epoch 32/100\n",
      "52/52 [==============================] - 6s 124ms/step - loss: 0.2297 - accuracy: 0.9130\n",
      "Epoch 33/100\n",
      "52/52 [==============================] - 6s 123ms/step - loss: 0.2315 - accuracy: 0.9045\n",
      "Epoch 34/100\n",
      "52/52 [==============================] - 6s 123ms/step - loss: 0.2338 - accuracy: 0.9075\n",
      "Epoch 35/100\n",
      "52/52 [==============================] - 7s 128ms/step - loss: 0.2721 - accuracy: 0.9026\n",
      "Epoch 36/100\n",
      "52/52 [==============================] - 7s 125ms/step - loss: 0.2811 - accuracy: 0.9039\n",
      "Epoch 37/100\n",
      "52/52 [==============================] - 7s 137ms/step - loss: 0.2800 - accuracy: 0.9008\n",
      "Epoch 38/100\n",
      "52/52 [==============================] - 7s 128ms/step - loss: 0.2920 - accuracy: 0.8983\n",
      "Epoch 39/100\n",
      "52/52 [==============================] - 6s 122ms/step - loss: 0.3799 - accuracy: 0.8788\n",
      "Epoch 40/100\n",
      "52/52 [==============================] - 6s 125ms/step - loss: 0.6650 - accuracy: 0.8016\n",
      "Epoch 41/100\n",
      "52/52 [==============================] - 6s 124ms/step - loss: 0.8857 - accuracy: 0.7532\n",
      "Epoch 42/100\n",
      "52/52 [==============================] - 6s 124ms/step - loss: 0.7829 - accuracy: 0.7716\n",
      "Epoch 43/100\n",
      "52/52 [==============================] - 8s 145ms/step - loss: 0.5966 - accuracy: 0.8255\n",
      "Epoch 44/100\n",
      "52/52 [==============================] - 7s 129ms/step - loss: 0.4863 - accuracy: 0.8592\n",
      "Epoch 45/100\n",
      "52/52 [==============================] - 6s 124ms/step - loss: 0.3425 - accuracy: 0.8922\n",
      "Epoch 46/100\n",
      "52/52 [==============================] - 6s 124ms/step - loss: 0.3184 - accuracy: 0.9008\n",
      "Epoch 47/100\n",
      "52/52 [==============================] - 7s 130ms/step - loss: 0.2901 - accuracy: 0.9014\n",
      "Epoch 48/100\n",
      "52/52 [==============================] - 7s 142ms/step - loss: 0.2600 - accuracy: 0.9039\n",
      "Epoch 49/100\n",
      "52/52 [==============================] - 7s 139ms/step - loss: 0.2525 - accuracy: 0.9100\n",
      "Epoch 50/100\n",
      "52/52 [==============================] - 8s 147ms/step - loss: 0.2458 - accuracy: 0.9063\n",
      "Epoch 51/100\n",
      "52/52 [==============================] - 8s 164ms/step - loss: 0.2441 - accuracy: 0.9051\n",
      "Epoch 52/100\n",
      "52/52 [==============================] - 8s 151ms/step - loss: 0.2426 - accuracy: 0.9051\n",
      "Epoch 53/100\n",
      "52/52 [==============================] - 7s 127ms/step - loss: 0.2353 - accuracy: 0.9094\n",
      "Epoch 54/100\n",
      "52/52 [==============================] - 7s 126ms/step - loss: 0.2320 - accuracy: 0.9094\n",
      "Epoch 55/100\n",
      "52/52 [==============================] - 8s 150ms/step - loss: 0.2642 - accuracy: 0.9063\n",
      "Epoch 56/100\n",
      "52/52 [==============================] - 8s 151ms/step - loss: 0.2559 - accuracy: 0.9075\n",
      "Epoch 57/100\n",
      "52/52 [==============================] - 9s 181ms/step - loss: 0.2324 - accuracy: 0.9032\n",
      "Epoch 58/100\n",
      "52/52 [==============================] - 10s 182ms/step - loss: 0.2330 - accuracy: 0.9032\n",
      "Epoch 59/100\n",
      "52/52 [==============================] - 8s 157ms/step - loss: 0.2363 - accuracy: 0.9112\n",
      "Epoch 60/100\n",
      "52/52 [==============================] - 8s 144ms/step - loss: 0.2294 - accuracy: 0.9075\n",
      "Epoch 61/100\n",
      "52/52 [==============================] - 7s 133ms/step - loss: 0.2363 - accuracy: 0.9081\n",
      "Epoch 62/100\n",
      "52/52 [==============================] - 7s 133ms/step - loss: 0.2308 - accuracy: 0.9088\n",
      "Epoch 63/100\n",
      "52/52 [==============================] - 7s 132ms/step - loss: 0.2693 - accuracy: 0.9039\n",
      "Epoch 64/100\n",
      "52/52 [==============================] - 7s 127ms/step - loss: 0.2411 - accuracy: 0.9026\n",
      "Epoch 65/100\n",
      "52/52 [==============================] - 7s 132ms/step - loss: 0.2287 - accuracy: 0.9112\n",
      "Epoch 66/100\n",
      "52/52 [==============================] - 7s 132ms/step - loss: 0.2639 - accuracy: 0.9118\n",
      "Epoch 67/100\n",
      "52/52 [==============================] - 7s 129ms/step - loss: 0.2485 - accuracy: 0.9081\n",
      "Epoch 68/100\n",
      "52/52 [==============================] - 7s 139ms/step - loss: 0.2249 - accuracy: 0.9088\n",
      "Epoch 69/100\n",
      "52/52 [==============================] - 7s 131ms/step - loss: 0.2291 - accuracy: 0.9051\n",
      "Epoch 70/100\n",
      "52/52 [==============================] - 7s 133ms/step - loss: 0.2240 - accuracy: 0.9106\n",
      "Epoch 71/100\n",
      "52/52 [==============================] - 7s 134ms/step - loss: 0.2320 - accuracy: 0.9081\n",
      "Epoch 72/100\n",
      "52/52 [==============================] - 7s 130ms/step - loss: 0.2240 - accuracy: 0.9051\n",
      "Epoch 73/100\n",
      "52/52 [==============================] - 7s 131ms/step - loss: 0.2235 - accuracy: 0.9057\n",
      "Epoch 74/100\n",
      "52/52 [==============================] - 7s 133ms/step - loss: 0.2241 - accuracy: 0.9069\n",
      "Epoch 75/100\n",
      "52/52 [==============================] - 7s 128ms/step - loss: 0.2357 - accuracy: 0.9069\n",
      "Epoch 76/100\n",
      "52/52 [==============================] - 7s 125ms/step - loss: 0.2408 - accuracy: 0.9045\n",
      "Epoch 77/100\n",
      "52/52 [==============================] - 7s 130ms/step - loss: 0.2266 - accuracy: 0.9106\n",
      "Epoch 78/100\n",
      "52/52 [==============================] - 7s 143ms/step - loss: 0.2266 - accuracy: 0.9075\n",
      "Epoch 79/100\n",
      "52/52 [==============================] - 7s 127ms/step - loss: 0.2326 - accuracy: 0.9026\n",
      "Epoch 80/100\n",
      "52/52 [==============================] - 7s 131ms/step - loss: 0.2244 - accuracy: 0.9081\n",
      "Epoch 81/100\n",
      "52/52 [==============================] - 7s 130ms/step - loss: 0.2248 - accuracy: 0.9094\n",
      "Epoch 82/100\n",
      "52/52 [==============================] - 7s 130ms/step - loss: 0.2220 - accuracy: 0.9081\n",
      "Epoch 83/100\n",
      "52/52 [==============================] - 7s 136ms/step - loss: 0.2243 - accuracy: 0.9075\n",
      "Epoch 84/100\n",
      "52/52 [==============================] - 7s 130ms/step - loss: 0.2557 - accuracy: 0.9106\n",
      "Epoch 85/100\n",
      "52/52 [==============================] - 7s 134ms/step - loss: 0.2356 - accuracy: 0.9081\n",
      "Epoch 86/100\n",
      "52/52 [==============================] - 7s 129ms/step - loss: 0.2571 - accuracy: 0.9045\n",
      "Epoch 87/100\n",
      "52/52 [==============================] - 7s 138ms/step - loss: 0.2277 - accuracy: 0.9088\n",
      "Epoch 88/100\n",
      "52/52 [==============================] - 7s 140ms/step - loss: 0.2275 - accuracy: 0.9069\n",
      "Epoch 89/100\n",
      "52/52 [==============================] - 7s 134ms/step - loss: 0.2330 - accuracy: 0.9020\n",
      "Epoch 90/100\n",
      "52/52 [==============================] - 7s 130ms/step - loss: 0.2257 - accuracy: 0.9069\n",
      "Epoch 91/100\n",
      "52/52 [==============================] - 7s 131ms/step - loss: 0.2287 - accuracy: 0.9137\n",
      "Epoch 92/100\n",
      "52/52 [==============================] - 7s 141ms/step - loss: 0.2254 - accuracy: 0.9124\n",
      "Epoch 93/100\n",
      "52/52 [==============================] - 8s 154ms/step - loss: 0.2240 - accuracy: 0.9088\n",
      "Epoch 94/100\n",
      "52/52 [==============================] - 7s 142ms/step - loss: 0.2220 - accuracy: 0.9063\n",
      "Epoch 95/100\n",
      "52/52 [==============================] - 7s 134ms/step - loss: 0.2194 - accuracy: 0.9112\n",
      "Epoch 96/100\n",
      "52/52 [==============================] - 7s 131ms/step - loss: 0.2338 - accuracy: 0.9094\n",
      "Epoch 97/100\n",
      "52/52 [==============================] - 7s 134ms/step - loss: 0.2334 - accuracy: 0.8996\n",
      "Epoch 98/100\n",
      "52/52 [==============================] - 7s 130ms/step - loss: 0.2483 - accuracy: 0.9100\n",
      "Epoch 99/100\n",
      "52/52 [==============================] - 7s 138ms/step - loss: 0.2377 - accuracy: 0.9069\n",
      "Epoch 100/100\n",
      "52/52 [==============================] - 7s 142ms/step - loss: 0.2291 - accuracy: 0.9088\n",
      "Model: \"sequential_7\"\n",
      "_________________________________________________________________\n",
      " Layer (type)                Output Shape              Param #   \n",
      "=================================================================\n",
      " embedding_7 (Embedding)     (None, 15, 250)           6481250   \n",
      "                                                                 \n",
      " bidirectional_3 (Bidirectio  (None, 300)              481200    \n",
      " nal)                                                            \n",
      "                                                                 \n",
      " dense_9 (Dense)             (None, 25925)             7803425   \n",
      "                                                                 \n",
      "=================================================================\n",
      "Total params: 14,765,875\n",
      "Trainable params: 14,765,875\n",
      "Non-trainable params: 0\n",
      "_________________________________________________________________\n",
      "None\n",
      "<keras.engine.sequential.Sequential object at 0x00000287C9D9E0C8>\n"
     ]
    }
   ],
   "source": [
    "model = Sequential()\n",
    "model.add(Embedding(total_words, 250, input_length=max_sequence_len-1))\n",
    "model.add(Bidirectional(LSTM(150)))\n",
    "model.add(Dense(total_words, activation='softmax')) \n",
    "# tipo de activacion especial, exponencial normalizada, es una generalización de la Función logística\n",
    "adam = Adam(lr=0.01)\n",
    "model.compile(loss='categorical_crossentropy', optimizer=adam, metrics=['accuracy']) \n",
    "# régimen de entropía cruzada\n",
    "history = model.fit(xs, ys, epochs=100, verbose=1)\n",
    "print(model.summary())\n",
    "print(model)"
   ]
  },
  {
   "cell_type": "markdown",
   "metadata": {},
   "source": [
    "Learning graphs by time period"
   ]
  },
  {
   "cell_type": "code",
   "execution_count": 171,
   "metadata": {},
   "outputs": [],
   "source": [
    "def plot_graphs(history, string):\n",
    "    plt.plot(history.history[string])\n",
    "    plt.xlabel(\"Epochs\")\n",
    "    plt.ylabel(string)\n",
    "    plt.show()"
   ]
  },
  {
   "cell_type": "code",
   "execution_count": 172,
   "metadata": {},
   "outputs": [
    {
     "data": {
      "image/png": "[encoded data removed]",
      "text/plain": [
       "<Figure size 432x288 with 1 Axes>"
      ]
     },
     "metadata": {
      "needs_background": "light"
     },
     "output_type": "display_data"
    }
   ],
   "source": [
    "plot_graphs(history, 'accuracy')\n"
   ]
  },
  {
   "cell_type": "markdown",
   "metadata": {},
   "source": [
    "## Text generation!!\n",
    "For this, the following python function is written. the function performs per number of following words specified and seed text the preprocessing, instancing the model for prediction of the next token, getting the most probable token in `indexnumclass` variable and converting the token to text"
   ]
  },
  {
   "cell_type": "code",
   "execution_count": 212,
   "metadata": {},
   "outputs": [],
   "source": [
    "def write_the_next_eurovision_sentence(seed_text, next_words):\n",
    "    \n",
    "    for _ in range(next_words):\n",
    "        \n",
    "        token_list = tokenizer.texts_to_sequences([seed_text])[0]\n",
    "        token_list = pad_sequences([token_list], maxlen=max_sequence_len-1, padding='pre')\n",
    "        \n",
    "        \n",
    "        predicted = model.predict(token_list)\n",
    "        classes = np.round(predicted).astype(int)\n",
    "        indexnumclass=np.argmax(classes)\n",
    "        \n",
    "        output_word = \"\"\n",
    "        for word, index in tokenizer.word_index.items():\n",
    "            if index == indexnumclass:\n",
    "                output_word = word\n",
    "                break\n",
    "        seed_text = seed_text + \" \" + output_word\n",
    "        \n",
    "    return seed_text"
   ]
  },
  {
   "cell_type": "code",
   "execution_count": 213,
   "metadata": {},
   "outputs": [
    {
     "data": {
      "text/plain": [
       "'My poor heart dreamed of time and space     '"
      ]
     },
     "execution_count": 213,
     "metadata": {},
     "output_type": "execute_result"
    }
   ],
   "source": [
    "inputtext = \"My poor heart\"\n",
    "write_the_next_eurovision_sentence(inputtext, 10)"
   ]
  },
  {
   "cell_type": "code",
   "execution_count": 216,
   "metadata": {},
   "outputs": [
    {
     "data": {
      "text/plain": [
       "'I love the stars you are watching are so far away from here my love can say we rhymes so rhymes  '"
      ]
     },
     "execution_count": 216,
     "metadata": {},
     "output_type": "execute_result"
    }
   ],
   "source": [
    "inputtext = \"I love the\"\n",
    "write_the_next_eurovision_sentence(inputtext, 20)"
   ]
  },
  {
   "cell_type": "code",
   "execution_count": 220,
   "metadata": {},
   "outputs": [
    {
     "data": {
      "text/plain": [
       "\"I'm sad cause i'm here again i'll wait for your name again saying prayers so rhymes        \""
      ]
     },
     "execution_count": 220,
     "metadata": {},
     "output_type": "execute_result"
    }
   ],
   "source": [
    "inputtext = \"I'm sad cause i'm\"\n",
    "write_the_next_eurovision_sentence(inputtext, 20)"
   ]
  },
  {
   "cell_type": "code",
   "execution_count": 222,
   "metadata": {},
   "outputs": [
    {
     "data": {
      "text/plain": [
       "'Everyone has must         '"
      ]
     },
     "execution_count": 222,
     "metadata": {},
     "output_type": "execute_result"
    }
   ],
   "source": [
    "inputtext = \"Everyone has\"\n",
    "write_the_next_eurovision_sentence(inputtext, 10)"
   ]
  },
  {
   "cell_type": "code",
   "execution_count": 225,
   "metadata": {},
   "outputs": [
    {
     "data": {
      "text/plain": [
       "'you have to ask and i will show right            '"
      ]
     },
     "execution_count": 225,
     "metadata": {},
     "output_type": "execute_result"
    }
   ],
   "source": [
    "inputtext = \"you\"\n",
    "write_the_next_eurovision_sentence(inputtext, 20)"
   ]
  },
  {
   "cell_type": "code",
   "execution_count": 227,
   "metadata": {},
   "outputs": [
    {
     "data": {
      "text/plain": [
       "'my darling you are walking are so high and             '"
      ]
     },
     "execution_count": 227,
     "metadata": {},
     "output_type": "execute_result"
    }
   ],
   "source": [
    "inputtext = \"my darling\"\n",
    "write_the_next_eurovision_sentence(inputtext, 20)"
   ]
  },
  {
   "cell_type": "markdown",
   "metadata": {},
   "source": [
    "It seems that perhaps the model works better for generating sentences if the seed has prepositions or the sentence has an open ending"
   ]
  },
  {
   "cell_type": "markdown",
   "metadata": {},
   "source": [
    "I will try to force the prediction by feeding a seed each time a sentence is finished predicting, this time with the first 4 words and not the whole sentence. For this, I will create the following procedure"
   ]
  },
  {
   "cell_type": "code",
   "execution_count": 239,
   "metadata": {},
   "outputs": [],
   "source": [
    "def keep_writing_the_next_eurovision_sentence(seed_text, next_words, rounds = 10):\n",
    "    text = write_the_next_eurovision_sentence(seed_text, next_words)\n",
    "    text += \"\\n\"\n",
    "    for i in range(rounds):\n",
    "        corpus_sentences = \"\".join(df_primeras['Lyrics'].values.tolist()).split(\"\\n\")\n",
    "        random_index = np.random.randint(0, len(corpus_sentences)-1)\n",
    "        newseed = corpus_sentences[random_index]\n",
    "        newseed = newseed.split(\" \")[0:4]\n",
    "        newseed = \" \".join(newseed)\n",
    "        text += write_the_next_eurovision_sentence(newseed, next_words)\n",
    "        text +=\"\\n\"\n",
    "    return text\n",
    "    "
   ]
  },
  {
   "cell_type": "markdown",
   "metadata": {},
   "source": [
    "So this will be the next predicted winning eurovision song!!"
   ]
  },
  {
   "cell_type": "code",
   "execution_count": 240,
   "metadata": {},
   "outputs": [
    {
     "name": "stdout",
     "output_type": "stream",
     "text": [
      "my darling you are walking are so high and             \n",
      "And if you gonna join me i'll be your guide              \n",
      "Day... after day i go through the motions             \n",
      "No matter how many miles you walk away from me lorraine in the rain will keep falling you rhymes rhymes    \n",
      "What you'll decide? some                   \n",
      "What I lose, what i find without your love you have to ask and i will show rhymes love rhymes    \n",
      "Forget tomorrow we can do tonight again again again             \n",
      "Sharing my history                    \n",
      "For now let’s leave them all behind love you behind              \n",
      "                    \n",
      "Do whatchya, whatchya, whatchya want tomorrow we can do tonight again again again again          \n",
      "\n"
     ]
    }
   ],
   "source": [
    "inputtext = \"my darling\"\n",
    "result = keep_writing_the_next_eurovision_sentence(inputtext, 20)\n",
    "print(result)"
   ]
  }
 ],
 "metadata": {
  "accelerator": "GPU",
  "colab": {
   "name": "03-modeling-LSTM-text-generation.ipynb",
   "provenance": []
  },
  "kernelspec": {
   "display_name": "Python 3",
   "language": "python",
   "name": "python3"
  },
  "language_info": {
   "codemirror_mode": {
    "name": "ipython",
    "version": 3
   },
   "file_extension": ".py",
   "mimetype": "text/x-python",
   "name": "python",
   "nbconvert_exporter": "python",
   "pygments_lexer": "ipython3",
   "version": "3.7.4"
  }
 },
 "nbformat": 4,
 "nbformat_minor": 5
}
